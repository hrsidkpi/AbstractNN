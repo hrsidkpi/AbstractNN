{
 "cells": [
  {
   "cell_type": "code",
   "execution_count": 66,
   "metadata": {},
   "outputs": [],
   "source": [
    "import numpy as np\n",
    "import matplotlib.pyplot as plt"
   ]
  },
  {
   "cell_type": "code",
   "execution_count": 73,
   "metadata": {},
   "outputs": [],
   "source": [
    "# Halfspace is 2x+y+1<0\n",
    "\n",
    "halfspace_weights = np.array([-1, 1]).T\n",
    "halfspace_offset = 1\n",
    "\n",
    "def is_in_halfspace(v):\n",
    "    return halfspace_weights.T @ v + halfspace_offset < 0"
   ]
  },
  {
   "cell_type": "code",
   "execution_count": 74,
   "metadata": {},
   "outputs": [
    {
     "data": {
      "image/png": "[encoded data removed]",
      "text/plain": [
       "<Figure size 432x288 with 1 Axes>"
      ]
     },
     "metadata": {
      "needs_background": "light"
     },
     "output_type": "display_data"
    }
   ],
   "source": [
    "points = []\n",
    "for x in np.linspace(-10, 10, 20):\n",
    "    for y in np.linspace(-10, 10, 20):\n",
    "        v = np.array([x,y]).T\n",
    "        if is_in_halfspace(v):\n",
    "            points.append(v)\n",
    "points = np.array(points)\n",
    "\n",
    "plt.scatter(points[:,0], points[:,1])\n",
    "plt.show()"
   ]
  },
  {
   "cell_type": "code",
   "execution_count": 75,
   "metadata": {},
   "outputs": [],
   "source": [
    "# Transformation is:\n",
    "# x' = 2x + y + 1\n",
    "# y' = x - 2y\n",
    "\n",
    "transformation_linear = np.array([[2, 1], [1, -2]]).T\n",
    "transformation_offset = np.array([1, 0]).T\n",
    "\n",
    "def transformation(v):\n",
    "    return transformation_linear @ v + transformation_offset"
   ]
  },
  {
   "cell_type": "code",
   "execution_count": 76,
   "metadata": {},
   "outputs": [
    {
     "data": {
      "image/png": "[encoded data removed]",
      "text/plain": [
       "<Figure size 432x288 with 1 Axes>"
      ]
     },
     "metadata": {
      "needs_background": "light"
     },
     "output_type": "display_data"
    }
   ],
   "source": [
    "new_points = []\n",
    "for p in points:\n",
    "    new_points.append(transformation(p))\n",
    "new_points = np.array(new_points)\n",
    "\n",
    "all_reference_points = []\n",
    "for x in np.linspace(-10, 10, 20):\n",
    "    for y in np.linspace(-10, 10, 20):\n",
    "        v = transformation(np.array([x,y]).T)\n",
    "        all_reference_points.append(v)\n",
    "all_reference_points = np.array(all_reference_points)\n",
    "\n",
    "plt.scatter(all_reference_points[:,0], all_reference_points[:,1], c='r')\n",
    "plt.scatter(new_points[:,0], new_points[:,1], c='b')\n",
    "\n",
    "plt.show()"
   ]
  },
  {
   "cell_type": "code",
   "execution_count": 77,
   "metadata": {},
   "outputs": [
    {
     "name": "stdout",
     "output_type": "stream",
     "text": [
      "[-0.2 -0.6]\n",
      "[-1  1]\n"
     ]
    }
   ],
   "source": [
    "transformed_halfspace_weights = halfspace_weights.T @ np.linalg.inv(transformation_linear)\n",
    "transformed_halfspace_offset = halfspace_offset - halfspace_weights @ np.linalg.inv(transformation_linear) @ transformation_offset\n",
    "\n",
    "print(transformed_halfspace_weights)\n",
    "print(halfspace_weights)\n",
    "\n",
    "def is_in_transformed_halfspace(v):\n",
    "    res = transformed_halfspace_weights.T @ v + transformed_halfspace_offset\n",
    "    return res < 0"
   ]
  },
  {
   "cell_type": "code",
   "execution_count": 78,
   "metadata": {},
   "outputs": [
    {
     "data": {
      "image/png": "[encoded data removed]",
      "text/plain": [
       "<Figure size 432x288 with 1 Axes>"
      ]
     },
     "metadata": {
      "needs_background": "light"
     },
     "output_type": "display_data"
    }
   ],
   "source": [
    "points = []\n",
    "for x in np.linspace(-10, 10, 20):\n",
    "    for y in np.linspace(-10, 10, 20):\n",
    "        v = np.array([x,y]).T\n",
    "        if is_in_transformed_halfspace(v):\n",
    "            points.append(v)\n",
    "points = np.array(points)\n",
    "\n",
    "plt.scatter(points[:,0], points[:,1])\n",
    "plt.show()"
   ]
  }
 ],
 "metadata": {
  "interpreter": {
   "hash": "dc15e14bc2b4c1df727bcd3bf3c0df482af36bf928f874c42a8f8021e787230d"
  },
  "kernelspec": {
   "display_name": "Python 3.7.6 64-bit",
   "language": "python",
   "name": "python3"
  },
  "language_info": {
   "codemirror_mode": {
    "name": "ipython",
    "version": 3
   },
   "file_extension": ".py",
   "mimetype": "text/x-python",
   "name": "python",
   "nbconvert_exporter": "python",
   "pygments_lexer": "ipython3",
   "version": "3.7.6"
  },
  "orig_nbformat": 4
 },
 "nbformat": 4,
 "nbformat_minor": 2
}
